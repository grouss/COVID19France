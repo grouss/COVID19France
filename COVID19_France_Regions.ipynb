{
 "cells": [
  {
   "cell_type": "markdown",
   "metadata": {
    "id": "0l5ss8LiFgGq"
   },
   "source": [
    "# Analyse brute des données quotidiennes publiques covid19  France et régions\n"
   ]
  },
  {
   "cell_type": "markdown",
   "metadata": {},
   "source": [
    "[Dernier Rapport au format pdf sur le site github](https://github.com/grouss/COVID19France/raw/master/COVID19_France_Regions.pdf)"
   ]
  },
  {
   "cell_type": "code",
   "execution_count": 11,
   "metadata": {},
   "outputs": [],
   "source": [
    "run -i function.py"
   ]
  },
  {
   "cell_type": "code",
   "execution_count": null,
   "metadata": {},
   "outputs": [],
   "source": [
    "run -i load.py"
   ]
  },
  {
   "cell_type": "markdown",
   "metadata": {
    "id": "JnC-Cpc_Ofqi"
   },
   "source": [
    "## Chiffres des hospitalisations et des décès (Cumulés en France)"
   ]
  },
  {
   "cell_type": "code",
   "execution_count": 3,
   "metadata": {
    "colab": {
     "base_uri": "https://localhost:8080/",
     "height": 320
    },
    "id": "tmsp9vT5LK_v",
    "outputId": "0c76ea2f-07a4-4bcb-df89-293eda3abbec"
   },
   "outputs": [
    {
     "ename": "NameError",
     "evalue": "name 'data3' is not defined",
     "output_type": "error",
     "traceback": [
      "\u001b[0;31m---------------------------------------------------------------------------\u001b[0m",
      "\u001b[0;31mNameError\u001b[0m                                 Traceback (most recent call last)",
      "\u001b[0;32m~/ParisDiderot/Python/COVID19France/load.py\u001b[0m in \u001b[0;36m<module>\u001b[0;34m\u001b[0m\n\u001b[0;32m----> 1\u001b[0;31m \u001b[0mDisplayFrance\u001b[0m\u001b[0;34m(\u001b[0m\u001b[0;34m)\u001b[0m\u001b[0;34m\u001b[0m\u001b[0;34m\u001b[0m\u001b[0m\n\u001b[0m",
      "\u001b[0;32m~/ParisDiderot/Python/COVID19France/load.py\u001b[0m in \u001b[0;36mDisplayFrance\u001b[0;34m(xmin, xmax, ymin, ymax)\u001b[0m\n\u001b[1;32m    286\u001b[0m \u001b[0;34m\u001b[0m\u001b[0m\n\u001b[1;32m    287\u001b[0m     \u001b[0;32mfor\u001b[0m \u001b[0mclage\u001b[0m \u001b[0;32min\u001b[0m \u001b[0;34m[\u001b[0m\u001b[0;36m0\u001b[0m\u001b[0;34m]\u001b[0m\u001b[0;34m:\u001b[0m\u001b[0;34m\u001b[0m\u001b[0;34m\u001b[0m\u001b[0m\n\u001b[0;32m--> 288\u001b[0;31m         \u001b[0mxx\u001b[0m\u001b[0;34m=\u001b[0m\u001b[0mdata3\u001b[0m\u001b[0;34m[\u001b[0m\u001b[0;34m\"11\"\u001b[0m\u001b[0;34m]\u001b[0m\u001b[0;34m[\u001b[0m\u001b[0mclage\u001b[0m\u001b[0;34m]\u001b[0m\u001b[0;34m[\u001b[0m\u001b[0;34m:\u001b[0m\u001b[0;34m,\u001b[0m\u001b[0;36m0\u001b[0m\u001b[0;34m]\u001b[0m\u001b[0;34m\u001b[0m\u001b[0;34m\u001b[0m\u001b[0m\n\u001b[0m\u001b[1;32m    289\u001b[0m         \u001b[0myy\u001b[0m\u001b[0;34m=\u001b[0m\u001b[0mnp\u001b[0m\u001b[0;34m.\u001b[0m\u001b[0mzeros\u001b[0m\u001b[0;34m(\u001b[0m\u001b[0;34m(\u001b[0m\u001b[0mlen\u001b[0m\u001b[0;34m(\u001b[0m\u001b[0mxx\u001b[0m\u001b[0;34m)\u001b[0m\u001b[0;34m,\u001b[0m\u001b[0;36m4\u001b[0m\u001b[0;34m)\u001b[0m\u001b[0;34m)\u001b[0m\u001b[0;34m\u001b[0m\u001b[0;34m\u001b[0m\u001b[0m\n\u001b[1;32m    290\u001b[0m         \u001b[0;32mfor\u001b[0m \u001b[0mreg\u001b[0m \u001b[0;32min\u001b[0m \u001b[0mdata3\u001b[0m\u001b[0;34m:\u001b[0m\u001b[0;34m\u001b[0m\u001b[0;34m\u001b[0m\u001b[0m\n",
      "\u001b[0;31mNameError\u001b[0m: name 'data3' is not defined"
     ]
    },
    {
     "data": {
      "image/png": "[encoded data removed]",
      "text/plain": [
       "<Figure size 1440x360 with 1 Axes>"
      ]
     },
     "metadata": {
      "needs_background": "light"
     },
     "output_type": "display_data"
    }
   ],
   "source": [
    "DisplayFrance()"
   ]
  },
  {
   "cell_type": "markdown",
   "metadata": {
    "id": "tvLWTtkEO3_d"
   },
   "source": [
    "## Chiffres des hospitalisations et des décès (par régions)"
   ]
  },
  {
   "cell_type": "code",
   "execution_count": null,
   "metadata": {
    "colab": {
     "base_uri": "https://localhost:8080/",
     "height": 1000
    },
    "id": "JpO1rtqMLh8v",
    "outputId": "6390368a-606a-45ab-ae5e-30c029b5ca0f"
   },
   "outputs": [],
   "source": [
    "for reg in region:\n",
    "    DisplayRegions(reg)"
   ]
  },
  {
   "cell_type": "markdown",
   "metadata": {
    "id": "BoL8Rt__PDlO"
   },
   "source": [
    "## Chiffres des hospitalisations et des décès (par tranches d'age)"
   ]
  },
  {
   "cell_type": "code",
   "execution_count": null,
   "metadata": {
    "colab": {
     "base_uri": "https://localhost:8080/",
     "height": 1000
    },
    "id": "wcL91IVZNu30",
    "outputId": "69338716-8fa0-47b6-d806-b37791b14ef7"
   },
   "outputs": [],
   "source": [
    "for clage in trancheage:\n",
    "    DisplayAge(clage)"
   ]
  },
  {
   "cell_type": "code",
   "execution_count": 6,
   "metadata": {},
   "outputs": [],
   "source": [
    "CreateReport()\n",
    "PushCommit()\n"
   ]
  },
  {
   "cell_type": "markdown",
   "metadata": {
    "id": "dD5jpNyvLBC_"
   },
   "source": [
    "# Sources de données\n",
    "\n",
    "https://www.data.gouv.fr/fr/datasets/donnees-hospitalieres-relatives-a-lepidemie-de-covid-19/\n",
    "\n",
    "# Méthodologie\n",
    "\n",
    "- Traitement du fichier de données brutes.\n",
    "- Représentation des moyennes hebdomadaires comme données de base lissées. \n",
    "- Affichage des différentes périodes de couvre-feu et confinement.\n",
    "- Versionning du dépôt pour la traçabilité et la reproductibilité sur un dépôt public.\n",
    "- Interface pour les commentaires via github.\n",
    "\n",
    "# Quelques liens\n",
    "\n",
    "- Euromomo (EuroMOMO is a European mortality monitoring activity, aiming to detect and measure excess deaths related to seasonal influenza, pandemics and other public health threats.)\n",
    "https://www.euromomo.eu/graphs-and-maps/\n",
    "\n",
    "- CépiDc (Centre d'épidémiologie sur les causes médicales de Décès)\n",
    "https://opendata.idf.inserm.fr/cepidc/covid-19/index.html\n",
    "\n",
    "- Avis de scientifiques CNRS, INSERM, Institut Pasteur, INRA, Université. Equipe bénévole et indépendante \n",
    "https://www.adioscorona.org/\n",
    "\n",
    "- FranceInfo : \"Suivez l’évolution de l'épidémie en France et dans le monde\" \n",
    "https://www.francetvinfo.fr/sante/maladie/coronavirus/infographies-covid-19-morts-hospitalisations-age-malades-l-evolution-de-l-epidemie-en-france-et-dans-le-monde-en-cartes-et-graphiques.html\n",
    "\n",
    "- le suivi des variants en angleterre https://www.gov.uk/government/publications/covid-19-variants-genomically-confirmed-case-numbers/\n",
    "\n",
    "- Un exemple de modélisation épidémique par inférrence https://cloudapps.france-bioinformatique.fr/covidici/\n",
    "\n",
    "# Quelques reférences bibliographiques\n",
    "- \"Evaluation des stratégies vaccinales COVID-19 avec un modèle mathématique populationnel\" Cécile Kiem, Clément Massonnaud, Daniel Levy-Bruhl, Chiara Poletto, Vittoria Colizza, et al. 2020. [pasteur-03087143](https://hal.archives-ouvertes.fr/pasteur-03087143) (23/12/2020)\n",
    "- \"Evolution of outcomes for patients hospitalized during the first SARS-CoV-2 pandemic wave in France. 2020.\", Noémie Lefrancq, Juliette Paireau, Nathanaël Hozé, Noémie Courtejoie, Yazdan Yazdanpanah, et al. [hal-02946545](https://hal.archives-ouvertes.fr/hal-02946545) (23/09/2020)\n",
    "- \"Seroprevalence of SARS-CoV-2 among adults in three regions of France following the lockdown and associated risk factors: a multicohort study.\" [Carrat et al. 2020](https://www.medrxiv.org/content/10.1101/2020.09.16.20195693v1)\n",
    "- \"Ready for a BASE jump? Do not neglect SARS-CoV-2 hospitalization and fatality risks in the middle-aged adult population\" [Lapidus et al, 2020](https://www.medrxiv.org/content/10.1101/2020.11.06.20227025v1) (07/11/2020)\n",
    "- \"Estimated date of dominance of VOC-202012/01 strain in France and projected scenarios\" [Sabbatini et al, 2021](http://www.epicx-lab.com/uploads/9/6/9/4/9694133/inserm_covid-19-voc_dominance-20210116.pdf) (All reports available [here](https://www.epicx-lab.com/covid-19.htm) )\n"
   ]
  },
  {
   "cell_type": "markdown",
   "metadata": {
    "id": "K5NmSqpq7T_x"
   },
   "source": [
    "## **Code Source et données**\n",
    "\n",
    "- [function.py](function.py)\n",
    "- [load.py](load.py)\n",
    "- Données dans le repertoire local /RawData\n"
   ]
  },
  {
   "cell_type": "code",
   "execution_count": null,
   "metadata": {},
   "outputs": [],
   "source": []
  },
  {
   "cell_type": "code",
   "execution_count": null,
   "metadata": {},
   "outputs": [],
   "source": []
  }
 ],
 "metadata": {
  "colab": {
   "collapsed_sections": [],
   "name": "COVID19_France_Regions.ipynb",
   "provenance": []
  },
  "kernelspec": {
   "display_name": "Python 3",
   "language": "python",
   "name": "python3"
  },
  "language_info": {
   "codemirror_mode": {
    "name": "ipython",
    "version": 3
   },
   "file_extension": ".py",
   "mimetype": "text/x-python",
   "name": "python",
   "nbconvert_exporter": "python",
   "pygments_lexer": "ipython3",
   "version": "3.8.5"
  }
 },
 "nbformat": 4,
 "nbformat_minor": 4
}
